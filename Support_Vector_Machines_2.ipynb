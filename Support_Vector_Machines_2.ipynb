{
  "nbformat": 4,
  "nbformat_minor": 0,
  "metadata": {
    "colab": {
      "provenance": []
    },
    "kernelspec": {
      "name": "python3",
      "display_name": "Python 3"
    },
    "language_info": {
      "name": "python"
    }
  },
  "cells": [
    {
      "cell_type": "markdown",
      "source": [
        "Q1. What is the relationship between polynomial functions and kernel functions in machine learning\n",
        "algorithms?"
      ],
      "metadata": {
        "id": "FYWFDB7Ch5PY"
      }
    },
    {
      "cell_type": "code",
      "source": [
        "#In machine learning algorithms, kernel functions are used to transform data into a higher-dimensional feature space, where it may be easier to separate the classes. Polynomial functions are one type of kernel function that is commonly used."
      ],
      "metadata": {
        "id": "5mg_UY9dimNi"
      },
      "execution_count": null,
      "outputs": []
    },
    {
      "cell_type": "markdown",
      "source": [
        "Q2. How can we implement an SVM with a polynomial kernel in Python using Scikit-learn?"
      ],
      "metadata": {
        "id": "FcMmO45Eh8lt"
      }
    },
    {
      "cell_type": "code",
      "source": [
        "#Step 1: Import the necessary libraries\n",
        "# Step 2: Generate a toy dataset\n",
        "#Step 3: Split the dataset into training and testing sets \n",
        "# Step 4: Create an SVM object\n",
        "# Step 5: Train the SVM \n",
        "#Step 6: Evaluate the performance"
      ],
      "metadata": {
        "id": "LbcuS17_incN"
      },
      "execution_count": null,
      "outputs": []
    },
    {
      "cell_type": "markdown",
      "source": [
        "Q3. How does increasing the value of epsilon affect the number of support vectors in SVR?"
      ],
      "metadata": {
        "id": "ulj1-Asfh-nf"
      }
    },
    {
      "cell_type": "code",
      "source": [
        "# In support vector regression (SVR), the parameter epsilon (ε) controls the width of the margin around the regression line that is ignored. This means that any data points that fall within the margin will not contribute to the loss function used in SVR, and are known as support vectors."
      ],
      "metadata": {
        "id": "8_T29Pu4int1"
      },
      "execution_count": null,
      "outputs": []
    },
    {
      "cell_type": "markdown",
      "source": [
        "Q4. How does the choice of kernel function, C parameter, epsilon parameter, and gamma parameter\n",
        "affect the performance of Support Vector Regression (SVR)? Can you explain how each parameter works\n",
        "and provide examples of when you might want to increase or decrease its value?"
      ],
      "metadata": {
        "id": "QpL0u9URiAjX"
      }
    },
    {
      "cell_type": "code",
      "source": [
        "# Kernel function:\n",
        "The kernel function is used to transform the data into a higher-dimensional space where it may be easier to separate the classes. \n",
        "#C parameter:\n",
        "The C parameter controls the trade-off between the accuracy of the model and the simplicity of the model.\n",
        "#Epsilon parameter:\n",
        "The epsilon parameter controls the width of the margin around the regression line that is ignored.\n",
        "#Gamma parameter:\n",
        "The gamma parameter controls the shape of the decision boundary in the transformed feature space\n",
        "\n",
        "# Example:\n",
        "Suppose you are working on a problem where you have a large amount of noisy data, and you suspect that the relationship between the input and output variables is non-linear. In this case, you might want to use an RBF kernel with a larger value of gamma to capture the non-linear relationship in the data. You might also start with a small value of C and epsilon and gradually increase them until the desired level of accuracy is achieved."
      ],
      "metadata": {
        "id": "caf5YYk-ioPF"
      },
      "execution_count": null,
      "outputs": []
    },
    {
      "cell_type": "markdown",
      "source": [
        "Q5. Assignment:\n",
        "L Import the necessary libraries and load the dataseg"
      ],
      "metadata": {
        "id": "R7GX0CvdiCI3"
      }
    },
    {
      "cell_type": "code",
      "source": [
        "import pandas as pd\n",
        "import numpy as np\n",
        "import seaborn as sns\n",
        "import matplotlib.pyplot as plt\n",
        "import seaborn as sns"
      ],
      "metadata": {
        "id": "jGqY4BtglOj7"
      },
      "execution_count": 4,
      "outputs": []
    },
    {
      "cell_type": "code",
      "source": [
        "from sklearn.svm import SVC\n",
        "from sklearn.datasets import make_classification\n",
        "from sklearn.model_selection import train_test_split"
      ],
      "metadata": {
        "id": "l9HJyPD5iogV"
      },
      "execution_count": 1,
      "outputs": []
    },
    {
      "cell_type": "code",
      "source": [
        "X, y = make_classification(n_samples=1000, n_features=10, n_informative=5, n_classes=2, random_state=42)"
      ],
      "metadata": {
        "id": "OSKdOYTijNix"
      },
      "execution_count": 2,
      "outputs": []
    },
    {
      "cell_type": "markdown",
      "source": [
        "L Split the dataset into training and testing setZ"
      ],
      "metadata": {
        "id": "BKJq2sSniGrI"
      }
    },
    {
      "cell_type": "code",
      "source": [
        "X_train, X_test, y_train, y_test = train_test_split(X, y, test_size=0.2, random_state=42)"
      ],
      "metadata": {
        "id": "yDxKrmfLjPv5"
      },
      "execution_count": 3,
      "outputs": []
    },
    {
      "cell_type": "markdown",
      "source": [
        "L Create an instance of the SVC classifier and train it on the training datW"
      ],
      "metadata": {
        "id": "UjhOi42SiKUJ"
      }
    },
    {
      "cell_type": "code",
      "source": [
        "poly_svm = SVC(kernel='poly', degree=2)"
      ],
      "metadata": {
        "id": "vQiyBSDkldIt"
      },
      "execution_count": 5,
      "outputs": []
    },
    {
      "cell_type": "code",
      "source": [
        "poly_svm.fit(X_train, y_train)"
      ],
      "metadata": {
        "colab": {
          "base_uri": "https://localhost:8080/",
          "height": 74
        },
        "id": "puGT172ejWy6",
        "outputId": "93416aaf-4277-4661-bc5a-ccba873256e2"
      },
      "execution_count": 6,
      "outputs": [
        {
          "output_type": "execute_result",
          "data": {
            "text/plain": [
              "SVC(degree=2, kernel='poly')"
            ],
            "text/html": [
              "<style>#sk-container-id-1 {color: black;background-color: white;}#sk-container-id-1 pre{padding: 0;}#sk-container-id-1 div.sk-toggleable {background-color: white;}#sk-container-id-1 label.sk-toggleable__label {cursor: pointer;display: block;width: 100%;margin-bottom: 0;padding: 0.3em;box-sizing: border-box;text-align: center;}#sk-container-id-1 label.sk-toggleable__label-arrow:before {content: \"▸\";float: left;margin-right: 0.25em;color: #696969;}#sk-container-id-1 label.sk-toggleable__label-arrow:hover:before {color: black;}#sk-container-id-1 div.sk-estimator:hover label.sk-toggleable__label-arrow:before {color: black;}#sk-container-id-1 div.sk-toggleable__content {max-height: 0;max-width: 0;overflow: hidden;text-align: left;background-color: #f0f8ff;}#sk-container-id-1 div.sk-toggleable__content pre {margin: 0.2em;color: black;border-radius: 0.25em;background-color: #f0f8ff;}#sk-container-id-1 input.sk-toggleable__control:checked~div.sk-toggleable__content {max-height: 200px;max-width: 100%;overflow: auto;}#sk-container-id-1 input.sk-toggleable__control:checked~label.sk-toggleable__label-arrow:before {content: \"▾\";}#sk-container-id-1 div.sk-estimator input.sk-toggleable__control:checked~label.sk-toggleable__label {background-color: #d4ebff;}#sk-container-id-1 div.sk-label input.sk-toggleable__control:checked~label.sk-toggleable__label {background-color: #d4ebff;}#sk-container-id-1 input.sk-hidden--visually {border: 0;clip: rect(1px 1px 1px 1px);clip: rect(1px, 1px, 1px, 1px);height: 1px;margin: -1px;overflow: hidden;padding: 0;position: absolute;width: 1px;}#sk-container-id-1 div.sk-estimator {font-family: monospace;background-color: #f0f8ff;border: 1px dotted black;border-radius: 0.25em;box-sizing: border-box;margin-bottom: 0.5em;}#sk-container-id-1 div.sk-estimator:hover {background-color: #d4ebff;}#sk-container-id-1 div.sk-parallel-item::after {content: \"\";width: 100%;border-bottom: 1px solid gray;flex-grow: 1;}#sk-container-id-1 div.sk-label:hover label.sk-toggleable__label {background-color: #d4ebff;}#sk-container-id-1 div.sk-serial::before {content: \"\";position: absolute;border-left: 1px solid gray;box-sizing: border-box;top: 0;bottom: 0;left: 50%;z-index: 0;}#sk-container-id-1 div.sk-serial {display: flex;flex-direction: column;align-items: center;background-color: white;padding-right: 0.2em;padding-left: 0.2em;position: relative;}#sk-container-id-1 div.sk-item {position: relative;z-index: 1;}#sk-container-id-1 div.sk-parallel {display: flex;align-items: stretch;justify-content: center;background-color: white;position: relative;}#sk-container-id-1 div.sk-item::before, #sk-container-id-1 div.sk-parallel-item::before {content: \"\";position: absolute;border-left: 1px solid gray;box-sizing: border-box;top: 0;bottom: 0;left: 50%;z-index: -1;}#sk-container-id-1 div.sk-parallel-item {display: flex;flex-direction: column;z-index: 1;position: relative;background-color: white;}#sk-container-id-1 div.sk-parallel-item:first-child::after {align-self: flex-end;width: 50%;}#sk-container-id-1 div.sk-parallel-item:last-child::after {align-self: flex-start;width: 50%;}#sk-container-id-1 div.sk-parallel-item:only-child::after {width: 0;}#sk-container-id-1 div.sk-dashed-wrapped {border: 1px dashed gray;margin: 0 0.4em 0.5em 0.4em;box-sizing: border-box;padding-bottom: 0.4em;background-color: white;}#sk-container-id-1 div.sk-label label {font-family: monospace;font-weight: bold;display: inline-block;line-height: 1.2em;}#sk-container-id-1 div.sk-label-container {text-align: center;}#sk-container-id-1 div.sk-container {/* jupyter's `normalize.less` sets `[hidden] { display: none; }` but bootstrap.min.css set `[hidden] { display: none !important; }` so we also need the `!important` here to be able to override the default hidden behavior on the sphinx rendered scikit-learn.org. See: https://github.com/scikit-learn/scikit-learn/issues/21755 */display: inline-block !important;position: relative;}#sk-container-id-1 div.sk-text-repr-fallback {display: none;}</style><div id=\"sk-container-id-1\" class=\"sk-top-container\"><div class=\"sk-text-repr-fallback\"><pre>SVC(degree=2, kernel=&#x27;poly&#x27;)</pre><b>In a Jupyter environment, please rerun this cell to show the HTML representation or trust the notebook. <br />On GitHub, the HTML representation is unable to render, please try loading this page with nbviewer.org.</b></div><div class=\"sk-container\" hidden><div class=\"sk-item\"><div class=\"sk-estimator sk-toggleable\"><input class=\"sk-toggleable__control sk-hidden--visually\" id=\"sk-estimator-id-1\" type=\"checkbox\" checked><label for=\"sk-estimator-id-1\" class=\"sk-toggleable__label sk-toggleable__label-arrow\">SVC</label><div class=\"sk-toggleable__content\"><pre>SVC(degree=2, kernel=&#x27;poly&#x27;)</pre></div></div></div></div></div>"
            ]
          },
          "metadata": {},
          "execution_count": 6
        }
      ]
    },
    {
      "cell_type": "code",
      "source": [
        "y_pred=poly_svm.predict(X_test)"
      ],
      "metadata": {
        "id": "7LQ7uj5Tl0O3"
      },
      "execution_count": 8,
      "outputs": []
    },
    {
      "cell_type": "markdown",
      "source": [
        "L Evaluate the performance of the classifier using any metric of your choice (e.g. accuracy,\n",
        "precision, recall, F1-scoreK"
      ],
      "metadata": {
        "id": "rvZyA_DYiN0x"
      }
    },
    {
      "cell_type": "code",
      "source": [
        "score = poly_svm.score(X_test, y_test)\n",
        "print('Accuracy: {:.2f}'.format(score))"
      ],
      "metadata": {
        "colab": {
          "base_uri": "https://localhost:8080/"
        },
        "id": "UB_up9l2lo8e",
        "outputId": "edaf6db3-982b-4013-e087-66578a344481"
      },
      "execution_count": 7,
      "outputs": [
        {
          "output_type": "stream",
          "name": "stdout",
          "text": [
            "Accuracy: 0.84\n"
          ]
        }
      ]
    },
    {
      "cell_type": "code",
      "source": [
        "from sklearn.metrics import classification_report,confusion_matrix,accuracy_score"
      ],
      "metadata": {
        "id": "cJPUvfP_luo3"
      },
      "execution_count": 9,
      "outputs": []
    },
    {
      "cell_type": "code",
      "source": [
        "print(classification_report(y_test, y_pred))\n",
        "print(confusion_matrix(y_test, y_pred))\n",
        "print(accuracy_score(y_test, y_pred))"
      ],
      "metadata": {
        "colab": {
          "base_uri": "https://localhost:8080/"
        },
        "id": "on27FltglyXX",
        "outputId": "a1f991be-d357-4748-cd35-5209ef820d24"
      },
      "execution_count": 10,
      "outputs": [
        {
          "output_type": "stream",
          "name": "stdout",
          "text": [
            "              precision    recall  f1-score   support\n",
            "\n",
            "           0       0.84      0.88      0.86       112\n",
            "           1       0.83      0.80      0.81        88\n",
            "\n",
            "    accuracy                           0.84       200\n",
            "   macro avg       0.84      0.84      0.84       200\n",
            "weighted avg       0.84      0.84      0.84       200\n",
            "\n",
            "[[98 14]\n",
            " [18 70]]\n",
            "0.84\n"
          ]
        }
      ]
    },
    {
      "cell_type": "markdown",
      "source": [
        "L Tune the hyperparameters of the SVC classifier using GridSearchCV or RandomiMedSearchCV to\n",
        "improve its performanc_"
      ],
      "metadata": {
        "id": "MgoNz2SAiPVB"
      }
    },
    {
      "cell_type": "code",
      "source": [
        "from sklearn.model_selection import GridSearchCV\n",
        " \n",
        "# defining parameter range\n",
        "param_grid = {'C': [0.1, 1, 10, 100, 1000],\n",
        "              'gamma': [1, 0.1, 0.01, 0.001, 0.0001],\n",
        "              'kernel':['linear']\n",
        "              }"
      ],
      "metadata": {
        "id": "r4dHAsTml_zB"
      },
      "execution_count": 11,
      "outputs": []
    },
    {
      "cell_type": "markdown",
      "source": [
        "L Train the tuned classifier on the entire dataseg"
      ],
      "metadata": {
        "id": "iWCMRRBMiQnq"
      }
    },
    {
      "cell_type": "code",
      "source": [
        "grid=GridSearchCV(SVC(),param_grid=param_grid,refit=True,cv=5, verbose=3)"
      ],
      "metadata": {
        "id": "JADdMQKZmEjy"
      },
      "execution_count": 12,
      "outputs": []
    },
    {
      "cell_type": "markdown",
      "source": [
        "L Save the trained classifier to a file for future use."
      ],
      "metadata": {
        "id": "N4wtRLKdiSlS"
      }
    },
    {
      "cell_type": "code",
      "execution_count": 13,
      "metadata": {
        "colab": {
          "base_uri": "https://localhost:8080/",
          "height": 1000
        },
        "id": "a8n_mxPjZjBc",
        "outputId": "b7f70a08-bdb6-4159-c6f9-c88689e26642"
      },
      "outputs": [
        {
          "output_type": "stream",
          "name": "stdout",
          "text": [
            "Fitting 5 folds for each of 25 candidates, totalling 125 fits\n",
            "[CV 1/5] END .....C=0.1, gamma=1, kernel=linear;, score=0.863 total time=   0.1s\n",
            "[CV 2/5] END .....C=0.1, gamma=1, kernel=linear;, score=0.844 total time=   0.1s\n",
            "[CV 3/5] END .....C=0.1, gamma=1, kernel=linear;, score=0.850 total time=   0.1s\n",
            "[CV 4/5] END .....C=0.1, gamma=1, kernel=linear;, score=0.825 total time=   0.1s\n",
            "[CV 5/5] END .....C=0.1, gamma=1, kernel=linear;, score=0.794 total time=   0.0s\n",
            "[CV 1/5] END ...C=0.1, gamma=0.1, kernel=linear;, score=0.863 total time=   0.0s\n",
            "[CV 2/5] END ...C=0.1, gamma=0.1, kernel=linear;, score=0.844 total time=   0.0s\n",
            "[CV 3/5] END ...C=0.1, gamma=0.1, kernel=linear;, score=0.850 total time=   0.1s\n",
            "[CV 4/5] END ...C=0.1, gamma=0.1, kernel=linear;, score=0.825 total time=   0.0s\n",
            "[CV 5/5] END ...C=0.1, gamma=0.1, kernel=linear;, score=0.794 total time=   0.0s\n",
            "[CV 1/5] END ..C=0.1, gamma=0.01, kernel=linear;, score=0.863 total time=   0.0s\n",
            "[CV 2/5] END ..C=0.1, gamma=0.01, kernel=linear;, score=0.844 total time=   0.0s\n",
            "[CV 3/5] END ..C=0.1, gamma=0.01, kernel=linear;, score=0.850 total time=   0.0s\n",
            "[CV 4/5] END ..C=0.1, gamma=0.01, kernel=linear;, score=0.825 total time=   0.0s\n",
            "[CV 5/5] END ..C=0.1, gamma=0.01, kernel=linear;, score=0.794 total time=   0.0s\n",
            "[CV 1/5] END .C=0.1, gamma=0.001, kernel=linear;, score=0.863 total time=   0.0s\n",
            "[CV 2/5] END .C=0.1, gamma=0.001, kernel=linear;, score=0.844 total time=   0.0s\n",
            "[CV 3/5] END .C=0.1, gamma=0.001, kernel=linear;, score=0.850 total time=   0.0s\n",
            "[CV 4/5] END .C=0.1, gamma=0.001, kernel=linear;, score=0.825 total time=   0.0s\n",
            "[CV 5/5] END .C=0.1, gamma=0.001, kernel=linear;, score=0.794 total time=   0.0s\n",
            "[CV 1/5] END C=0.1, gamma=0.0001, kernel=linear;, score=0.863 total time=   0.0s\n",
            "[CV 2/5] END C=0.1, gamma=0.0001, kernel=linear;, score=0.844 total time=   0.0s\n",
            "[CV 3/5] END C=0.1, gamma=0.0001, kernel=linear;, score=0.850 total time=   0.0s\n",
            "[CV 4/5] END C=0.1, gamma=0.0001, kernel=linear;, score=0.825 total time=   0.0s\n",
            "[CV 5/5] END C=0.1, gamma=0.0001, kernel=linear;, score=0.794 total time=   0.0s\n",
            "[CV 1/5] END .......C=1, gamma=1, kernel=linear;, score=0.856 total time=   0.1s\n",
            "[CV 2/5] END .......C=1, gamma=1, kernel=linear;, score=0.844 total time=   0.0s\n",
            "[CV 3/5] END .......C=1, gamma=1, kernel=linear;, score=0.856 total time=   0.1s\n",
            "[CV 4/5] END .......C=1, gamma=1, kernel=linear;, score=0.825 total time=   0.0s\n",
            "[CV 5/5] END .......C=1, gamma=1, kernel=linear;, score=0.800 total time=   0.0s\n",
            "[CV 1/5] END .....C=1, gamma=0.1, kernel=linear;, score=0.856 total time=   0.1s\n",
            "[CV 2/5] END .....C=1, gamma=0.1, kernel=linear;, score=0.844 total time=   0.0s\n",
            "[CV 3/5] END .....C=1, gamma=0.1, kernel=linear;, score=0.856 total time=   0.1s\n",
            "[CV 4/5] END .....C=1, gamma=0.1, kernel=linear;, score=0.825 total time=   0.0s\n",
            "[CV 5/5] END .....C=1, gamma=0.1, kernel=linear;, score=0.800 total time=   0.1s\n",
            "[CV 1/5] END ....C=1, gamma=0.01, kernel=linear;, score=0.856 total time=   0.1s\n",
            "[CV 2/5] END ....C=1, gamma=0.01, kernel=linear;, score=0.844 total time=   0.0s\n",
            "[CV 3/5] END ....C=1, gamma=0.01, kernel=linear;, score=0.856 total time=   0.0s\n",
            "[CV 4/5] END ....C=1, gamma=0.01, kernel=linear;, score=0.825 total time=   0.0s\n",
            "[CV 5/5] END ....C=1, gamma=0.01, kernel=linear;, score=0.800 total time=   0.0s\n",
            "[CV 1/5] END ...C=1, gamma=0.001, kernel=linear;, score=0.856 total time=   0.0s\n",
            "[CV 2/5] END ...C=1, gamma=0.001, kernel=linear;, score=0.844 total time=   0.0s\n",
            "[CV 3/5] END ...C=1, gamma=0.001, kernel=linear;, score=0.856 total time=   0.0s\n",
            "[CV 4/5] END ...C=1, gamma=0.001, kernel=linear;, score=0.825 total time=   0.0s\n",
            "[CV 5/5] END ...C=1, gamma=0.001, kernel=linear;, score=0.800 total time=   0.0s\n",
            "[CV 1/5] END ..C=1, gamma=0.0001, kernel=linear;, score=0.856 total time=   0.1s\n",
            "[CV 2/5] END ..C=1, gamma=0.0001, kernel=linear;, score=0.844 total time=   0.0s\n",
            "[CV 3/5] END ..C=1, gamma=0.0001, kernel=linear;, score=0.856 total time=   0.0s\n",
            "[CV 4/5] END ..C=1, gamma=0.0001, kernel=linear;, score=0.825 total time=   0.0s\n",
            "[CV 5/5] END ..C=1, gamma=0.0001, kernel=linear;, score=0.800 total time=   0.0s\n",
            "[CV 1/5] END ......C=10, gamma=1, kernel=linear;, score=0.856 total time=   0.3s\n",
            "[CV 2/5] END ......C=10, gamma=1, kernel=linear;, score=0.844 total time=   0.3s\n",
            "[CV 3/5] END ......C=10, gamma=1, kernel=linear;, score=0.856 total time=   0.2s\n",
            "[CV 4/5] END ......C=10, gamma=1, kernel=linear;, score=0.831 total time=   0.2s\n",
            "[CV 5/5] END ......C=10, gamma=1, kernel=linear;, score=0.800 total time=   0.3s\n",
            "[CV 1/5] END ....C=10, gamma=0.1, kernel=linear;, score=0.856 total time=   0.1s\n",
            "[CV 2/5] END ....C=10, gamma=0.1, kernel=linear;, score=0.844 total time=   0.2s\n",
            "[CV 3/5] END ....C=10, gamma=0.1, kernel=linear;, score=0.856 total time=   0.1s\n",
            "[CV 4/5] END ....C=10, gamma=0.1, kernel=linear;, score=0.831 total time=   0.1s\n",
            "[CV 5/5] END ....C=10, gamma=0.1, kernel=linear;, score=0.800 total time=   0.1s\n",
            "[CV 1/5] END ...C=10, gamma=0.01, kernel=linear;, score=0.856 total time=   0.1s\n",
            "[CV 2/5] END ...C=10, gamma=0.01, kernel=linear;, score=0.844 total time=   0.1s\n",
            "[CV 3/5] END ...C=10, gamma=0.01, kernel=linear;, score=0.856 total time=   0.1s\n",
            "[CV 4/5] END ...C=10, gamma=0.01, kernel=linear;, score=0.831 total time=   0.1s\n",
            "[CV 5/5] END ...C=10, gamma=0.01, kernel=linear;, score=0.800 total time=   0.1s\n",
            "[CV 1/5] END ..C=10, gamma=0.001, kernel=linear;, score=0.856 total time=   0.1s\n",
            "[CV 2/5] END ..C=10, gamma=0.001, kernel=linear;, score=0.844 total time=   0.1s\n",
            "[CV 3/5] END ..C=10, gamma=0.001, kernel=linear;, score=0.856 total time=   0.1s\n",
            "[CV 4/5] END ..C=10, gamma=0.001, kernel=linear;, score=0.831 total time=   0.1s\n",
            "[CV 5/5] END ..C=10, gamma=0.001, kernel=linear;, score=0.800 total time=   0.2s\n",
            "[CV 1/5] END .C=10, gamma=0.0001, kernel=linear;, score=0.856 total time=   0.1s\n",
            "[CV 2/5] END .C=10, gamma=0.0001, kernel=linear;, score=0.844 total time=   0.1s\n",
            "[CV 3/5] END .C=10, gamma=0.0001, kernel=linear;, score=0.856 total time=   0.1s\n",
            "[CV 4/5] END .C=10, gamma=0.0001, kernel=linear;, score=0.831 total time=   0.1s\n",
            "[CV 5/5] END .C=10, gamma=0.0001, kernel=linear;, score=0.800 total time=   0.1s\n",
            "[CV 1/5] END .....C=100, gamma=1, kernel=linear;, score=0.856 total time=   1.2s\n",
            "[CV 2/5] END .....C=100, gamma=1, kernel=linear;, score=0.844 total time=   1.2s\n",
            "[CV 3/5] END .....C=100, gamma=1, kernel=linear;, score=0.856 total time=   0.8s\n",
            "[CV 4/5] END .....C=100, gamma=1, kernel=linear;, score=0.831 total time=   0.9s\n",
            "[CV 5/5] END .....C=100, gamma=1, kernel=linear;, score=0.800 total time=   2.6s\n",
            "[CV 1/5] END ...C=100, gamma=0.1, kernel=linear;, score=0.856 total time=   2.7s\n",
            "[CV 2/5] END ...C=100, gamma=0.1, kernel=linear;, score=0.844 total time=   1.2s\n",
            "[CV 3/5] END ...C=100, gamma=0.1, kernel=linear;, score=0.856 total time=   0.8s\n",
            "[CV 4/5] END ...C=100, gamma=0.1, kernel=linear;, score=0.831 total time=   1.1s\n",
            "[CV 5/5] END ...C=100, gamma=0.1, kernel=linear;, score=0.800 total time=   1.2s\n",
            "[CV 1/5] END ..C=100, gamma=0.01, kernel=linear;, score=0.856 total time=   1.2s\n",
            "[CV 2/5] END ..C=100, gamma=0.01, kernel=linear;, score=0.844 total time=   1.2s\n",
            "[CV 3/5] END ..C=100, gamma=0.01, kernel=linear;, score=0.856 total time=   0.8s\n",
            "[CV 4/5] END ..C=100, gamma=0.01, kernel=linear;, score=0.831 total time=   1.2s\n",
            "[CV 5/5] END ..C=100, gamma=0.01, kernel=linear;, score=0.800 total time=   2.1s\n",
            "[CV 1/5] END .C=100, gamma=0.001, kernel=linear;, score=0.856 total time=   1.2s\n",
            "[CV 2/5] END .C=100, gamma=0.001, kernel=linear;, score=0.844 total time=   1.2s\n",
            "[CV 3/5] END .C=100, gamma=0.001, kernel=linear;, score=0.856 total time=   0.8s\n",
            "[CV 4/5] END .C=100, gamma=0.001, kernel=linear;, score=0.831 total time=   0.9s\n",
            "[CV 5/5] END .C=100, gamma=0.001, kernel=linear;, score=0.800 total time=   1.2s\n",
            "[CV 1/5] END C=100, gamma=0.0001, kernel=linear;, score=0.856 total time=   1.1s\n",
            "[CV 2/5] END C=100, gamma=0.0001, kernel=linear;, score=0.844 total time=   1.2s\n",
            "[CV 3/5] END C=100, gamma=0.0001, kernel=linear;, score=0.856 total time=   0.8s\n",
            "[CV 4/5] END C=100, gamma=0.0001, kernel=linear;, score=0.831 total time=   0.9s\n",
            "[CV 5/5] END C=100, gamma=0.0001, kernel=linear;, score=0.800 total time=   1.5s\n",
            "[CV 1/5] END ....C=1000, gamma=1, kernel=linear;, score=0.856 total time=  11.3s\n",
            "[CV 2/5] END ....C=1000, gamma=1, kernel=linear;, score=0.838 total time=   9.5s\n",
            "[CV 3/5] END ....C=1000, gamma=1, kernel=linear;, score=0.850 total time=   8.7s\n",
            "[CV 4/5] END ....C=1000, gamma=1, kernel=linear;, score=0.831 total time=   7.9s\n",
            "[CV 5/5] END ....C=1000, gamma=1, kernel=linear;, score=0.800 total time=  14.3s\n",
            "[CV 1/5] END ..C=1000, gamma=0.1, kernel=linear;, score=0.856 total time=  17.0s\n",
            "[CV 2/5] END ..C=1000, gamma=0.1, kernel=linear;, score=0.838 total time=   8.6s\n",
            "[CV 3/5] END ..C=1000, gamma=0.1, kernel=linear;, score=0.850 total time=   8.3s\n",
            "[CV 4/5] END ..C=1000, gamma=0.1, kernel=linear;, score=0.831 total time=   8.9s\n",
            "[CV 5/5] END ..C=1000, gamma=0.1, kernel=linear;, score=0.800 total time=   9.3s\n",
            "[CV 1/5] END .C=1000, gamma=0.01, kernel=linear;, score=0.856 total time=  11.6s\n",
            "[CV 2/5] END .C=1000, gamma=0.01, kernel=linear;, score=0.838 total time=   9.7s\n",
            "[CV 3/5] END .C=1000, gamma=0.01, kernel=linear;, score=0.850 total time=   8.8s\n",
            "[CV 4/5] END .C=1000, gamma=0.01, kernel=linear;, score=0.831 total time=   8.4s\n",
            "[CV 5/5] END .C=1000, gamma=0.01, kernel=linear;, score=0.800 total time=  10.7s\n",
            "[CV 1/5] END C=1000, gamma=0.001, kernel=linear;, score=0.856 total time=  13.6s\n",
            "[CV 2/5] END C=1000, gamma=0.001, kernel=linear;, score=0.838 total time=   9.5s\n",
            "[CV 3/5] END C=1000, gamma=0.001, kernel=linear;, score=0.850 total time=   8.2s\n",
            "[CV 4/5] END C=1000, gamma=0.001, kernel=linear;, score=0.831 total time=   8.0s\n",
            "[CV 5/5] END C=1000, gamma=0.001, kernel=linear;, score=0.800 total time=   9.8s\n",
            "[CV 1/5] END C=1000, gamma=0.0001, kernel=linear;, score=0.856 total time=  11.7s\n",
            "[CV 2/5] END C=1000, gamma=0.0001, kernel=linear;, score=0.838 total time=   9.2s\n",
            "[CV 3/5] END C=1000, gamma=0.0001, kernel=linear;, score=0.850 total time=   7.7s\n",
            "[CV 4/5] END C=1000, gamma=0.0001, kernel=linear;, score=0.831 total time=   8.9s\n",
            "[CV 5/5] END C=1000, gamma=0.0001, kernel=linear;, score=0.800 total time=   9.9s\n"
          ]
        },
        {
          "output_type": "execute_result",
          "data": {
            "text/plain": [
              "GridSearchCV(cv=5, estimator=SVC(),\n",
              "             param_grid={'C': [0.1, 1, 10, 100, 1000],\n",
              "                         'gamma': [1, 0.1, 0.01, 0.001, 0.0001],\n",
              "                         'kernel': ['linear']},\n",
              "             verbose=3)"
            ],
            "text/html": [
              "<style>#sk-container-id-2 {color: black;background-color: white;}#sk-container-id-2 pre{padding: 0;}#sk-container-id-2 div.sk-toggleable {background-color: white;}#sk-container-id-2 label.sk-toggleable__label {cursor: pointer;display: block;width: 100%;margin-bottom: 0;padding: 0.3em;box-sizing: border-box;text-align: center;}#sk-container-id-2 label.sk-toggleable__label-arrow:before {content: \"▸\";float: left;margin-right: 0.25em;color: #696969;}#sk-container-id-2 label.sk-toggleable__label-arrow:hover:before {color: black;}#sk-container-id-2 div.sk-estimator:hover label.sk-toggleable__label-arrow:before {color: black;}#sk-container-id-2 div.sk-toggleable__content {max-height: 0;max-width: 0;overflow: hidden;text-align: left;background-color: #f0f8ff;}#sk-container-id-2 div.sk-toggleable__content pre {margin: 0.2em;color: black;border-radius: 0.25em;background-color: #f0f8ff;}#sk-container-id-2 input.sk-toggleable__control:checked~div.sk-toggleable__content {max-height: 200px;max-width: 100%;overflow: auto;}#sk-container-id-2 input.sk-toggleable__control:checked~label.sk-toggleable__label-arrow:before {content: \"▾\";}#sk-container-id-2 div.sk-estimator input.sk-toggleable__control:checked~label.sk-toggleable__label {background-color: #d4ebff;}#sk-container-id-2 div.sk-label input.sk-toggleable__control:checked~label.sk-toggleable__label {background-color: #d4ebff;}#sk-container-id-2 input.sk-hidden--visually {border: 0;clip: rect(1px 1px 1px 1px);clip: rect(1px, 1px, 1px, 1px);height: 1px;margin: -1px;overflow: hidden;padding: 0;position: absolute;width: 1px;}#sk-container-id-2 div.sk-estimator {font-family: monospace;background-color: #f0f8ff;border: 1px dotted black;border-radius: 0.25em;box-sizing: border-box;margin-bottom: 0.5em;}#sk-container-id-2 div.sk-estimator:hover {background-color: #d4ebff;}#sk-container-id-2 div.sk-parallel-item::after {content: \"\";width: 100%;border-bottom: 1px solid gray;flex-grow: 1;}#sk-container-id-2 div.sk-label:hover label.sk-toggleable__label {background-color: #d4ebff;}#sk-container-id-2 div.sk-serial::before {content: \"\";position: absolute;border-left: 1px solid gray;box-sizing: border-box;top: 0;bottom: 0;left: 50%;z-index: 0;}#sk-container-id-2 div.sk-serial {display: flex;flex-direction: column;align-items: center;background-color: white;padding-right: 0.2em;padding-left: 0.2em;position: relative;}#sk-container-id-2 div.sk-item {position: relative;z-index: 1;}#sk-container-id-2 div.sk-parallel {display: flex;align-items: stretch;justify-content: center;background-color: white;position: relative;}#sk-container-id-2 div.sk-item::before, #sk-container-id-2 div.sk-parallel-item::before {content: \"\";position: absolute;border-left: 1px solid gray;box-sizing: border-box;top: 0;bottom: 0;left: 50%;z-index: -1;}#sk-container-id-2 div.sk-parallel-item {display: flex;flex-direction: column;z-index: 1;position: relative;background-color: white;}#sk-container-id-2 div.sk-parallel-item:first-child::after {align-self: flex-end;width: 50%;}#sk-container-id-2 div.sk-parallel-item:last-child::after {align-self: flex-start;width: 50%;}#sk-container-id-2 div.sk-parallel-item:only-child::after {width: 0;}#sk-container-id-2 div.sk-dashed-wrapped {border: 1px dashed gray;margin: 0 0.4em 0.5em 0.4em;box-sizing: border-box;padding-bottom: 0.4em;background-color: white;}#sk-container-id-2 div.sk-label label {font-family: monospace;font-weight: bold;display: inline-block;line-height: 1.2em;}#sk-container-id-2 div.sk-label-container {text-align: center;}#sk-container-id-2 div.sk-container {/* jupyter's `normalize.less` sets `[hidden] { display: none; }` but bootstrap.min.css set `[hidden] { display: none !important; }` so we also need the `!important` here to be able to override the default hidden behavior on the sphinx rendered scikit-learn.org. See: https://github.com/scikit-learn/scikit-learn/issues/21755 */display: inline-block !important;position: relative;}#sk-container-id-2 div.sk-text-repr-fallback {display: none;}</style><div id=\"sk-container-id-2\" class=\"sk-top-container\"><div class=\"sk-text-repr-fallback\"><pre>GridSearchCV(cv=5, estimator=SVC(),\n",
              "             param_grid={&#x27;C&#x27;: [0.1, 1, 10, 100, 1000],\n",
              "                         &#x27;gamma&#x27;: [1, 0.1, 0.01, 0.001, 0.0001],\n",
              "                         &#x27;kernel&#x27;: [&#x27;linear&#x27;]},\n",
              "             verbose=3)</pre><b>In a Jupyter environment, please rerun this cell to show the HTML representation or trust the notebook. <br />On GitHub, the HTML representation is unable to render, please try loading this page with nbviewer.org.</b></div><div class=\"sk-container\" hidden><div class=\"sk-item sk-dashed-wrapped\"><div class=\"sk-label-container\"><div class=\"sk-label sk-toggleable\"><input class=\"sk-toggleable__control sk-hidden--visually\" id=\"sk-estimator-id-2\" type=\"checkbox\" ><label for=\"sk-estimator-id-2\" class=\"sk-toggleable__label sk-toggleable__label-arrow\">GridSearchCV</label><div class=\"sk-toggleable__content\"><pre>GridSearchCV(cv=5, estimator=SVC(),\n",
              "             param_grid={&#x27;C&#x27;: [0.1, 1, 10, 100, 1000],\n",
              "                         &#x27;gamma&#x27;: [1, 0.1, 0.01, 0.001, 0.0001],\n",
              "                         &#x27;kernel&#x27;: [&#x27;linear&#x27;]},\n",
              "             verbose=3)</pre></div></div></div><div class=\"sk-parallel\"><div class=\"sk-parallel-item\"><div class=\"sk-item\"><div class=\"sk-label-container\"><div class=\"sk-label sk-toggleable\"><input class=\"sk-toggleable__control sk-hidden--visually\" id=\"sk-estimator-id-3\" type=\"checkbox\" ><label for=\"sk-estimator-id-3\" class=\"sk-toggleable__label sk-toggleable__label-arrow\">estimator: SVC</label><div class=\"sk-toggleable__content\"><pre>SVC()</pre></div></div></div><div class=\"sk-serial\"><div class=\"sk-item\"><div class=\"sk-estimator sk-toggleable\"><input class=\"sk-toggleable__control sk-hidden--visually\" id=\"sk-estimator-id-4\" type=\"checkbox\" ><label for=\"sk-estimator-id-4\" class=\"sk-toggleable__label sk-toggleable__label-arrow\">SVC</label><div class=\"sk-toggleable__content\"><pre>SVC()</pre></div></div></div></div></div></div></div></div></div></div>"
            ]
          },
          "metadata": {},
          "execution_count": 13
        }
      ],
      "source": [
        "grid.fit(X_train,y_train)"
      ]
    },
    {
      "cell_type": "code",
      "source": [
        "grid.best_params_"
      ],
      "metadata": {
        "colab": {
          "base_uri": "https://localhost:8080/"
        },
        "id": "Lgu3bQ_Cmcic",
        "outputId": "1b7f5eed-eb1e-40ee-e0e6-5c2572073e6e"
      },
      "execution_count": 16,
      "outputs": [
        {
          "output_type": "execute_result",
          "data": {
            "text/plain": [
              "{'C': 10, 'gamma': 1, 'kernel': 'linear'}"
            ]
          },
          "metadata": {},
          "execution_count": 16
        }
      ]
    },
    {
      "cell_type": "code",
      "source": [
        "## Prediction\n",
        "y_pred4=grid.predict(X_test)\n",
        "print(classification_report(y_test,y_pred4))\n",
        "print(confusion_matrix(y_test,y_pred4))\n",
        "print(accuracy_score(y_test,y_pred))"
      ],
      "metadata": {
        "colab": {
          "base_uri": "https://localhost:8080/"
        },
        "id": "QbyXBqDzmLx7",
        "outputId": "7bf1db3d-a19f-4593-8668-4525cc8b04e4"
      },
      "execution_count": 17,
      "outputs": [
        {
          "output_type": "stream",
          "name": "stdout",
          "text": [
            "              precision    recall  f1-score   support\n",
            "\n",
            "           0       0.90      0.82      0.86       112\n",
            "           1       0.80      0.89      0.84        88\n",
            "\n",
            "    accuracy                           0.85       200\n",
            "   macro avg       0.85      0.85      0.85       200\n",
            "weighted avg       0.86      0.85      0.85       200\n",
            "\n",
            "[[92 20]\n",
            " [10 78]]\n",
            "0.84\n"
          ]
        }
      ]
    }
  ]
}